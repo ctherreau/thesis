{
 "cells": [
  {
   "cell_type": "code",
   "execution_count": 1,
   "metadata": {},
   "outputs": [
    {
     "name": "stdout",
     "output_type": "stream",
     "text": [
      "Initialization done, Notebook was last run on: 15/07/2020 at 15:44:22\n"
     ]
    }
   ],
   "source": [
    "%run ../../Initialisation_Notebook/Initialize.ipynb"
   ]
  },
  {
   "cell_type": "code",
   "execution_count": 2,
   "metadata": {},
   "outputs": [],
   "source": [
    "import uproot"
   ]
  },
  {
   "cell_type": "code",
   "execution_count": 3,
   "metadata": {},
   "outputs": [],
   "source": [
    "def root_to_pandas(root_path, saving_path):\n",
    "    file = uproot.open(root_path)\n",
    "    tree=file[\"hit\"]\n",
    "    tree_dict={'edep':tree.array('edep'),\n",
    "               'preedep':tree.array('preedep'),\n",
    "               'postedep':tree.array('postedep'),\n",
    "               'zDep':tree.array('zDep'),\n",
    "               'xDep':tree.array('xDep'),\n",
    "               'yDep':tree.array('yDep'),\n",
    "               'typeDepInt':tree.array('typeDepInt'), # 1 = e- 2 =gamma\n",
    "               'processDepInt':tree.array('processDepInt'),\n",
    "               # initStep 0 eIoni 1 eBrem 2 \n",
    "               #StepLimiter 5 compt 3 phot 4\n",
    "               'trackID':tree.array('trackID'),\n",
    "               'parentID':tree.array('parentID'),\n",
    "                'eventID':tree.array('eID')}\n",
    "    test = pd.DataFrame(tree_dict)\n",
    "    test.to_hdf(saving_path, key='df')\n",
    "    \n",
    "    print('Check if simulation is ok ? ')\n",
    "    print('nb of events simulated : 100000')\n",
    "    print('...... nb of events measured', len(test.eventID.unique()))\n",
    "    print('Energy simulated : ')\n",
    "    print('...... mean of energy measured', np.mean(sum(test.edep.values))/len(test.eventID.unique()), 'MeV')\n",
    "    return test"
   ]
  },
  {
   "cell_type": "markdown",
   "metadata": {},
   "source": [
    "# 0vbb"
   ]
  },
  {
   "cell_type": "code",
   "execution_count": 4,
   "metadata": {},
   "outputs": [
    {
     "name": "stdout",
     "output_type": "stream",
     "text": [
      "Check if simulation is ok ? \n",
      "nb of events simulated : 100000\n",
      "...... nb of events measured 20000\n",
      "Energy simulated : \n",
      "...... mean of energy measured 2.4575013394358463 MeV\n"
     ]
    }
   ],
   "source": [
    "vbb = root_to_pandas('N02-2_Electrons_Final/0vbb_simulation_uniform_all_tpc.root','0vbb_simulation_uniform_all_tpc.h5')"
   ]
  },
  {
   "cell_type": "markdown",
   "metadata": {},
   "source": [
    "### Show brem spectrum"
   ]
  },
  {
   "cell_type": "code",
   "execution_count": 6,
   "metadata": {},
   "outputs": [],
   "source": [
    "edep_brem=[]\n",
    "\n",
    "test=vbb.copy()\n",
    "\n",
    "#test_track_id=[]\n",
    "for e in test.eventID.unique(): \n",
    "    if e == 1000 :print(e)\n",
    "    elif e == 5000 :print(e)\n",
    "    elif e == 10000 :print(e)\n",
    "        \n",
    "    ici=test[(test.eventID==e)&(test.processDepInt==2)]\n",
    "    if len(ici)!=0:\n",
    "        #print('no brem')\n",
    "        edep_brem.append(sum(ici.preedep.values-ici.postedep.values)*1000)"
   ]
  },
  {
   "cell_type": "code",
   "execution_count": 15,
   "metadata": {},
   "outputs": [],
   "source": [
    "np.savetxt('0vbb_simulation_brem_spectrum.csv',edep_brem , delimiter=',')"
   ]
  },
  {
   "cell_type": "code",
   "execution_count": 16,
   "metadata": {},
   "outputs": [],
   "source": [
    "nbofbrem=0\n",
    "for i in range(len(edep_brem)):\n",
    "    if edep_brem[i]!=0: \n",
    "        #print(edep_brem[i])\n",
    "        nbofbrem+=1"
   ]
  },
  {
   "cell_type": "code",
   "execution_count": 17,
   "metadata": {},
   "outputs": [
    {
     "name": "stdout",
     "output_type": "stream",
     "text": [
      "Number of brem : 91.12 %\n",
      "Fraction of kinetic energy transport per brem : 5.48 %\n"
     ]
    }
   ],
   "source": [
    "print('Number of brem :', round(nbofbrem/len(test.eventID.unique())*100,2),'%')\n",
    "print('Fraction of kinetic energy transport per brem :', round(np.mean(edep_brem)/(1223*2)*100,2), '%')"
   ]
  },
  {
   "cell_type": "code",
   "execution_count": 18,
   "metadata": {},
   "outputs": [
    {
     "data": {
      "image/png": "[encoded data removed]",
      "text/plain": [
       "<Figure size 864x720 with 1 Axes>"
      ]
     },
     "metadata": {
      "needs_background": "light"
     },
     "output_type": "display_data"
    }
   ],
   "source": [
    "plt.title('Bremstralung energy spectrum')\n",
    "plt.hist(np.multiply(edep_brem,1), bins=200, range=[0,2000])\n",
    "\n",
    "plt.yscale('log')\n",
    "plt.xlabel('Edep (keV)')\n",
    "\n",
    "plt.show()"
   ]
  },
  {
   "cell_type": "code",
   "execution_count": 19,
   "metadata": {},
   "outputs": [
    {
     "data": {
      "text/plain": [
       "1.6177814681704268"
      ]
     },
     "execution_count": 19,
     "metadata": {},
     "output_type": "execute_result"
    }
   ],
   "source": [
    "max(edep_brem)/1000"
   ]
  }
 ],
 "metadata": {
  "kernelspec": {
   "display_name": "Python 3 (ipykernel)",
   "language": "python",
   "name": "python3"
  },
  "language_info": {
   "codemirror_mode": {
    "name": "ipython",
    "version": 3
   },
   "file_extension": ".py",
   "mimetype": "text/x-python",
   "name": "python",
   "nbconvert_exporter": "python",
   "pygments_lexer": "ipython3",
   "version": "3.10.6"
  },
  "toc": {
   "base_numbering": 1,
   "nav_menu": {},
   "number_sections": true,
   "sideBar": true,
   "skip_h1_title": false,
   "title_cell": "Table of Contents",
   "title_sidebar": "Contents",
   "toc_cell": false,
   "toc_position": {},
   "toc_section_display": true,
   "toc_window_display": false
  }
 },
 "nbformat": 4,
 "nbformat_minor": 2
}
